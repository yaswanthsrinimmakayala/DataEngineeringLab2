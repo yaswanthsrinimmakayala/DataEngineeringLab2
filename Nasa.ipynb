{
 "cells": [
  {
   "cell_type": "code",
   "execution_count": 1,
   "metadata": {},
   "outputs": [],
   "source": [
    "import pandas as pd\n",
    "import numpy as np"
   ]
  },
  {
   "cell_type": "code",
   "execution_count": 2,
   "metadata": {},
   "outputs": [],
   "source": [
    "df = pd.read_csv(\"farm_water_management_preprocessing.csv\")"
   ]
  },
  {
   "cell_type": "code",
   "execution_count": 3,
   "metadata": {},
   "outputs": [
    {
     "name": "stdout",
     "output_type": "stream",
     "text": [
      "<class 'pandas.core.frame.DataFrame'>\n",
      "RangeIndex: 510 entries, 0 to 509\n",
      "Data columns (total 10 columns):\n",
      " #   Column                       Non-Null Count  Dtype  \n",
      "---  ------                       --------------  -----  \n",
      " 0   Farm ID                      510 non-null    int64  \n",
      " 1   Location                     510 non-null    object \n",
      " 2   Farm Size (Acres)            510 non-null    object \n",
      " 3   Crop Type                    510 non-null    object \n",
      " 4   Water Availability (mm)      491 non-null    float64\n",
      " 5   Soil Moisture (%)            495 non-null    float64\n",
      " 6   Precipitation Forecast (mm)  500 non-null    float64\n",
      " 7   Irrigation Need (mm)         510 non-null    int64  \n",
      " 8   Risk Level                   510 non-null    object \n",
      " 9   Decision Recommendation      510 non-null    object \n",
      "dtypes: float64(3), int64(2), object(5)\n",
      "memory usage: 40.0+ KB\n"
     ]
    }
   ],
   "source": [
    "df.info()"
   ]
  },
  {
   "cell_type": "code",
   "execution_count": 4,
   "metadata": {},
   "outputs": [
    {
     "data": {
      "text/plain": [
       "Farm ID                         0\n",
       "Location                        0\n",
       "Farm Size (Acres)               0\n",
       "Crop Type                       0\n",
       "Water Availability (mm)        19\n",
       "Soil Moisture (%)              15\n",
       "Precipitation Forecast (mm)    10\n",
       "Irrigation Need (mm)            0\n",
       "Risk Level                      0\n",
       "Decision Recommendation         0\n",
       "dtype: int64"
      ]
     },
     "execution_count": 4,
     "metadata": {},
     "output_type": "execute_result"
    }
   ],
   "source": [
    "df.isnull().sum()"
   ]
  },
  {
   "cell_type": "code",
   "execution_count": 5,
   "metadata": {},
   "outputs": [],
   "source": [
    "def replace_invalid_type(column, target_type):\n",
    "    return column.apply(lambda x: x if isinstance(x, target_type) else np.nan)"
   ]
  },
  {
   "cell_type": "code",
   "execution_count": 6,
   "metadata": {},
   "outputs": [],
   "source": [
    "df['Water Availability (mm)'] = pd.to_numeric(df['Water Availability (mm)'], errors='coerce')\n",
    "df['Soil Moisture (%)'] = pd.to_numeric(df['Soil Moisture (%)'], errors='coerce')\n",
    "df['Precipitation Forecast (mm)'] = pd.to_numeric(df['Precipitation Forecast (mm)'], errors='coerce')\n"
   ]
  },
  {
   "cell_type": "code",
   "execution_count": 7,
   "metadata": {},
   "outputs": [],
   "source": [
    "df['Water Availability (mm)'] = replace_invalid_type(df['Water Availability (mm)'], float)\n",
    "df['Precipitation Forecast (mm)'] = replace_invalid_type(df['Precipitation Forecast (mm)'], float)\n"
   ]
  },
  {
   "cell_type": "code",
   "execution_count": 8,
   "metadata": {},
   "outputs": [],
   "source": [
    "df[\"Water Availability (mm)\"] = df[\"Water Availability (mm)\"].fillna(df[\"Water Availability (mm)\"].mode()[0])\n",
    "df[\"Soil Moisture (%)\"] = df[\"Soil Moisture (%)\"].fillna(df[\"Soil Moisture (%)\"].mode()[0])\n",
    "df[\"Precipitation Forecast (mm)\"] = df[\"Precipitation Forecast (mm)\"].fillna(df[\"Precipitation Forecast (mm)\"].mode()[0])"
   ]
  },
  {
   "cell_type": "code",
   "execution_count": 9,
   "metadata": {},
   "outputs": [
    {
     "data": {
      "text/plain": [
       "Farm ID                          int64\n",
       "Location                        object\n",
       "Farm Size (Acres)               object\n",
       "Crop Type                       object\n",
       "Water Availability (mm)        float64\n",
       "Soil Moisture (%)              float64\n",
       "Precipitation Forecast (mm)    float64\n",
       "Irrigation Need (mm)             int64\n",
       "Risk Level                      object\n",
       "Decision Recommendation         object\n",
       "dtype: object"
      ]
     },
     "execution_count": 9,
     "metadata": {},
     "output_type": "execute_result"
    }
   ],
   "source": [
    "df.dtypes"
   ]
  },
  {
   "cell_type": "code",
   "execution_count": 10,
   "metadata": {},
   "outputs": [
    {
     "data": {
      "text/html": [
       "<div>\n",
       "<style scoped>\n",
       "    .dataframe tbody tr th:only-of-type {\n",
       "        vertical-align: middle;\n",
       "    }\n",
       "\n",
       "    .dataframe tbody tr th {\n",
       "        vertical-align: top;\n",
       "    }\n",
       "\n",
       "    .dataframe thead th {\n",
       "        text-align: right;\n",
       "    }\n",
       "</style>\n",
       "<table border=\"1\" class=\"dataframe\">\n",
       "  <thead>\n",
       "    <tr style=\"text-align: right;\">\n",
       "      <th></th>\n",
       "      <th>Farm ID</th>\n",
       "      <th>Location</th>\n",
       "      <th>Farm Size (Acres)</th>\n",
       "      <th>Crop Type</th>\n",
       "      <th>Water Availability (mm)</th>\n",
       "      <th>Soil Moisture (%)</th>\n",
       "      <th>Precipitation Forecast (mm)</th>\n",
       "      <th>Irrigation Need (mm)</th>\n",
       "      <th>Risk Level</th>\n",
       "      <th>Decision Recommendation</th>\n",
       "    </tr>\n",
       "  </thead>\n",
       "  <tbody>\n",
       "    <tr>\n",
       "      <th>0</th>\n",
       "      <td>101</td>\n",
       "      <td>40.7128, -74.0060</td>\n",
       "      <td>324</td>\n",
       "      <td>Wheat</td>\n",
       "      <td>189.0</td>\n",
       "      <td>42.0</td>\n",
       "      <td>42.0</td>\n",
       "      <td>24</td>\n",
       "      <td>Low</td>\n",
       "      <td>Irrigate lightly</td>\n",
       "    </tr>\n",
       "    <tr>\n",
       "      <th>1</th>\n",
       "      <td>102</td>\n",
       "      <td>34.0522, -118.2437</td>\n",
       "      <td>562</td>\n",
       "      <td>Soy</td>\n",
       "      <td>218.0</td>\n",
       "      <td>36.0</td>\n",
       "      <td>30.0</td>\n",
       "      <td>29</td>\n",
       "      <td>High</td>\n",
       "      <td>Irrigate as needed</td>\n",
       "    </tr>\n",
       "    <tr>\n",
       "      <th>2</th>\n",
       "      <td>103</td>\n",
       "      <td>29.7604, -95.3698</td>\n",
       "      <td>543</td>\n",
       "      <td>Corn</td>\n",
       "      <td>255.0</td>\n",
       "      <td>32.0</td>\n",
       "      <td>27.0</td>\n",
       "      <td>33</td>\n",
       "      <td>Medium</td>\n",
       "      <td>Increase water monitoring</td>\n",
       "    </tr>\n",
       "    <tr>\n",
       "      <th>3</th>\n",
       "      <td>104</td>\n",
       "      <td>41.8781, -87.6298</td>\n",
       "      <td>411</td>\n",
       "      <td>Barley</td>\n",
       "      <td>154.0</td>\n",
       "      <td>45.0</td>\n",
       "      <td>38.0</td>\n",
       "      <td>33</td>\n",
       "      <td>High</td>\n",
       "      <td>Irrigate lightly</td>\n",
       "    </tr>\n",
       "    <tr>\n",
       "      <th>4</th>\n",
       "      <td>105</td>\n",
       "      <td>41.8781, -87.6298</td>\n",
       "      <td>110</td>\n",
       "      <td>Soy</td>\n",
       "      <td>137.0</td>\n",
       "      <td>47.0</td>\n",
       "      <td>26.0</td>\n",
       "      <td>21</td>\n",
       "      <td>Low</td>\n",
       "      <td>Monitor soil moisture</td>\n",
       "    </tr>\n",
       "  </tbody>\n",
       "</table>\n",
       "</div>"
      ],
      "text/plain": [
       "   Farm ID            Location Farm Size (Acres) Crop Type  \\\n",
       "0      101   40.7128, -74.0060               324     Wheat   \n",
       "1      102  34.0522, -118.2437               562       Soy   \n",
       "2      103   29.7604, -95.3698               543      Corn   \n",
       "3      104   41.8781, -87.6298               411    Barley   \n",
       "4      105   41.8781, -87.6298               110       Soy   \n",
       "\n",
       "   Water Availability (mm)  Soil Moisture (%)  Precipitation Forecast (mm)  \\\n",
       "0                    189.0               42.0                         42.0   \n",
       "1                    218.0               36.0                         30.0   \n",
       "2                    255.0               32.0                         27.0   \n",
       "3                    154.0               45.0                         38.0   \n",
       "4                    137.0               47.0                         26.0   \n",
       "\n",
       "   Irrigation Need (mm) Risk Level    Decision Recommendation  \n",
       "0                    24        Low           Irrigate lightly  \n",
       "1                    29       High         Irrigate as needed  \n",
       "2                    33     Medium  Increase water monitoring  \n",
       "3                    33       High           Irrigate lightly  \n",
       "4                    21        Low      Monitor soil moisture  "
      ]
     },
     "execution_count": 10,
     "metadata": {},
     "output_type": "execute_result"
    }
   ],
   "source": [
    "df.head()"
   ]
  },
  {
   "cell_type": "code",
   "execution_count": 11,
   "metadata": {},
   "outputs": [],
   "source": [
    "df['Farm Size (Acres)'] = pd.to_numeric(df['Farm Size (Acres)'], errors='coerce')\n",
    "median_farm_size = df['Farm Size (Acres)'].median()\n",
    "df['Farm Size (Acres)'] = df['Farm Size (Acres)'].fillna(median_farm_size)"
   ]
  },
  {
   "cell_type": "code",
   "execution_count": 12,
   "metadata": {},
   "outputs": [
    {
     "data": {
      "text/plain": [
       "Farm ID                        0\n",
       "Location                       0\n",
       "Farm Size (Acres)              0\n",
       "Crop Type                      0\n",
       "Water Availability (mm)        0\n",
       "Soil Moisture (%)              0\n",
       "Precipitation Forecast (mm)    0\n",
       "Irrigation Need (mm)           0\n",
       "Risk Level                     0\n",
       "Decision Recommendation        0\n",
       "dtype: int64"
      ]
     },
     "execution_count": 12,
     "metadata": {},
     "output_type": "execute_result"
    }
   ],
   "source": [
    "df.isnull().sum()"
   ]
  },
  {
   "cell_type": "code",
   "execution_count": 13,
   "metadata": {},
   "outputs": [],
   "source": [
    "from sklearn.preprocessing import LabelEncoder\n",
    "le = LabelEncoder()\n",
    "df[\"Risk Level\"]=le.fit_transform(df[\"Risk Level\"])"
   ]
  },
  {
   "cell_type": "code",
   "execution_count": 14,
   "metadata": {},
   "outputs": [
    {
     "data": {
      "text/plain": [
       "0      1\n",
       "1      0\n",
       "2      2\n",
       "3      0\n",
       "4      1\n",
       "      ..\n",
       "505    2\n",
       "506    0\n",
       "507    2\n",
       "508    0\n",
       "509    1\n",
       "Name: Risk Level, Length: 510, dtype: int64"
      ]
     },
     "execution_count": 14,
     "metadata": {},
     "output_type": "execute_result"
    }
   ],
   "source": [
    "df[\"Risk Level\"]"
   ]
  },
  {
   "cell_type": "code",
   "execution_count": 15,
   "metadata": {},
   "outputs": [
    {
     "data": {
      "text/plain": [
       "Crop Type\n",
       "Soy       135\n",
       "Corn      101\n",
       "Wheat      98\n",
       "Barley     95\n",
       "Rice       81\n",
       "Name: count, dtype: int64"
      ]
     },
     "execution_count": 15,
     "metadata": {},
     "output_type": "execute_result"
    }
   ],
   "source": [
    "df[\"Crop Type\"].value_counts()"
   ]
  },
  {
   "cell_type": "code",
   "execution_count": 16,
   "metadata": {},
   "outputs": [],
   "source": [
    "df.to_csv(\"Nasa.csv\")"
   ]
  },
  {
   "cell_type": "code",
   "execution_count": 17,
   "metadata": {},
   "outputs": [
    {
     "data": {
      "text/html": [
       "<div>\n",
       "<style scoped>\n",
       "    .dataframe tbody tr th:only-of-type {\n",
       "        vertical-align: middle;\n",
       "    }\n",
       "\n",
       "    .dataframe tbody tr th {\n",
       "        vertical-align: top;\n",
       "    }\n",
       "\n",
       "    .dataframe thead th {\n",
       "        text-align: right;\n",
       "    }\n",
       "</style>\n",
       "<table border=\"1\" class=\"dataframe\">\n",
       "  <thead>\n",
       "    <tr style=\"text-align: right;\">\n",
       "      <th></th>\n",
       "      <th>Farm ID</th>\n",
       "      <th>Location</th>\n",
       "      <th>Farm Size (Acres)</th>\n",
       "      <th>Crop Type</th>\n",
       "      <th>Water Availability (mm)</th>\n",
       "      <th>Soil Moisture (%)</th>\n",
       "      <th>Precipitation Forecast (mm)</th>\n",
       "      <th>Irrigation Need (mm)</th>\n",
       "      <th>Risk Level</th>\n",
       "      <th>Decision Recommendation</th>\n",
       "    </tr>\n",
       "  </thead>\n",
       "  <tbody>\n",
       "    <tr>\n",
       "      <th>0</th>\n",
       "      <td>101</td>\n",
       "      <td>40.7128, -74.0060</td>\n",
       "      <td>324.0</td>\n",
       "      <td>Wheat</td>\n",
       "      <td>189.0</td>\n",
       "      <td>42.0</td>\n",
       "      <td>42.0</td>\n",
       "      <td>24</td>\n",
       "      <td>1</td>\n",
       "      <td>Irrigate lightly</td>\n",
       "    </tr>\n",
       "    <tr>\n",
       "      <th>1</th>\n",
       "      <td>102</td>\n",
       "      <td>34.0522, -118.2437</td>\n",
       "      <td>562.0</td>\n",
       "      <td>Soy</td>\n",
       "      <td>218.0</td>\n",
       "      <td>36.0</td>\n",
       "      <td>30.0</td>\n",
       "      <td>29</td>\n",
       "      <td>0</td>\n",
       "      <td>Irrigate as needed</td>\n",
       "    </tr>\n",
       "    <tr>\n",
       "      <th>2</th>\n",
       "      <td>103</td>\n",
       "      <td>29.7604, -95.3698</td>\n",
       "      <td>543.0</td>\n",
       "      <td>Corn</td>\n",
       "      <td>255.0</td>\n",
       "      <td>32.0</td>\n",
       "      <td>27.0</td>\n",
       "      <td>33</td>\n",
       "      <td>2</td>\n",
       "      <td>Increase water monitoring</td>\n",
       "    </tr>\n",
       "    <tr>\n",
       "      <th>3</th>\n",
       "      <td>104</td>\n",
       "      <td>41.8781, -87.6298</td>\n",
       "      <td>411.0</td>\n",
       "      <td>Barley</td>\n",
       "      <td>154.0</td>\n",
       "      <td>45.0</td>\n",
       "      <td>38.0</td>\n",
       "      <td>33</td>\n",
       "      <td>0</td>\n",
       "      <td>Irrigate lightly</td>\n",
       "    </tr>\n",
       "    <tr>\n",
       "      <th>4</th>\n",
       "      <td>105</td>\n",
       "      <td>41.8781, -87.6298</td>\n",
       "      <td>110.0</td>\n",
       "      <td>Soy</td>\n",
       "      <td>137.0</td>\n",
       "      <td>47.0</td>\n",
       "      <td>26.0</td>\n",
       "      <td>21</td>\n",
       "      <td>1</td>\n",
       "      <td>Monitor soil moisture</td>\n",
       "    </tr>\n",
       "    <tr>\n",
       "      <th>...</th>\n",
       "      <td>...</td>\n",
       "      <td>...</td>\n",
       "      <td>...</td>\n",
       "      <td>...</td>\n",
       "      <td>...</td>\n",
       "      <td>...</td>\n",
       "      <td>...</td>\n",
       "      <td>...</td>\n",
       "      <td>...</td>\n",
       "      <td>...</td>\n",
       "    </tr>\n",
       "    <tr>\n",
       "      <th>505</th>\n",
       "      <td>153</td>\n",
       "      <td>36.7783, -119.4179</td>\n",
       "      <td>362.0</td>\n",
       "      <td>Soy</td>\n",
       "      <td>128.0</td>\n",
       "      <td>37.0</td>\n",
       "      <td>26.0</td>\n",
       "      <td>29</td>\n",
       "      <td>2</td>\n",
       "      <td>Irrigate lightly</td>\n",
       "    </tr>\n",
       "    <tr>\n",
       "      <th>506</th>\n",
       "      <td>280</td>\n",
       "      <td>34.0522, -118.2437</td>\n",
       "      <td>181.0</td>\n",
       "      <td>Barley</td>\n",
       "      <td>197.0</td>\n",
       "      <td>30.0</td>\n",
       "      <td>30.0</td>\n",
       "      <td>20</td>\n",
       "      <td>0</td>\n",
       "      <td>Monitor soil moisture</td>\n",
       "    </tr>\n",
       "    <tr>\n",
       "      <th>507</th>\n",
       "      <td>187</td>\n",
       "      <td>36.7783, -119.4179</td>\n",
       "      <td>280.0</td>\n",
       "      <td>Corn</td>\n",
       "      <td>269.0</td>\n",
       "      <td>33.0</td>\n",
       "      <td>49.0</td>\n",
       "      <td>37</td>\n",
       "      <td>2</td>\n",
       "      <td>Monitor soil moisture</td>\n",
       "    </tr>\n",
       "    <tr>\n",
       "      <th>508</th>\n",
       "      <td>393</td>\n",
       "      <td>36.7783, -119.4179</td>\n",
       "      <td>126.0</td>\n",
       "      <td>Corn</td>\n",
       "      <td>291.0</td>\n",
       "      <td>50.0</td>\n",
       "      <td>22.0</td>\n",
       "      <td>20</td>\n",
       "      <td>0</td>\n",
       "      <td>Irrigate as needed</td>\n",
       "    </tr>\n",
       "    <tr>\n",
       "      <th>509</th>\n",
       "      <td>324</td>\n",
       "      <td>36.7783, -119.4179</td>\n",
       "      <td>358.0</td>\n",
       "      <td>Soy</td>\n",
       "      <td>154.0</td>\n",
       "      <td>49.0</td>\n",
       "      <td>13.0</td>\n",
       "      <td>14</td>\n",
       "      <td>1</td>\n",
       "      <td>Increase water monitoring</td>\n",
       "    </tr>\n",
       "  </tbody>\n",
       "</table>\n",
       "<p>510 rows × 10 columns</p>\n",
       "</div>"
      ],
      "text/plain": [
       "     Farm ID            Location  Farm Size (Acres) Crop Type  \\\n",
       "0        101   40.7128, -74.0060              324.0     Wheat   \n",
       "1        102  34.0522, -118.2437              562.0       Soy   \n",
       "2        103   29.7604, -95.3698              543.0      Corn   \n",
       "3        104   41.8781, -87.6298              411.0    Barley   \n",
       "4        105   41.8781, -87.6298              110.0       Soy   \n",
       "..       ...                 ...                ...       ...   \n",
       "505      153  36.7783, -119.4179              362.0       Soy   \n",
       "506      280  34.0522, -118.2437              181.0    Barley   \n",
       "507      187  36.7783, -119.4179              280.0      Corn   \n",
       "508      393  36.7783, -119.4179              126.0      Corn   \n",
       "509      324  36.7783, -119.4179              358.0       Soy   \n",
       "\n",
       "     Water Availability (mm)  Soil Moisture (%)  Precipitation Forecast (mm)  \\\n",
       "0                      189.0               42.0                         42.0   \n",
       "1                      218.0               36.0                         30.0   \n",
       "2                      255.0               32.0                         27.0   \n",
       "3                      154.0               45.0                         38.0   \n",
       "4                      137.0               47.0                         26.0   \n",
       "..                       ...                ...                          ...   \n",
       "505                    128.0               37.0                         26.0   \n",
       "506                    197.0               30.0                         30.0   \n",
       "507                    269.0               33.0                         49.0   \n",
       "508                    291.0               50.0                         22.0   \n",
       "509                    154.0               49.0                         13.0   \n",
       "\n",
       "     Irrigation Need (mm)  Risk Level    Decision Recommendation  \n",
       "0                      24           1           Irrigate lightly  \n",
       "1                      29           0         Irrigate as needed  \n",
       "2                      33           2  Increase water monitoring  \n",
       "3                      33           0           Irrigate lightly  \n",
       "4                      21           1      Monitor soil moisture  \n",
       "..                    ...         ...                        ...  \n",
       "505                    29           2           Irrigate lightly  \n",
       "506                    20           0      Monitor soil moisture  \n",
       "507                    37           2      Monitor soil moisture  \n",
       "508                    20           0         Irrigate as needed  \n",
       "509                    14           1  Increase water monitoring  \n",
       "\n",
       "[510 rows x 10 columns]"
      ]
     },
     "execution_count": 17,
     "metadata": {},
     "output_type": "execute_result"
    }
   ],
   "source": [
    "df"
   ]
  },
  {
   "cell_type": "code",
   "execution_count": 18,
   "metadata": {},
   "outputs": [
    {
     "data": {
      "text/plain": [
       "Farm ID                          int64\n",
       "Location                        object\n",
       "Farm Size (Acres)              float64\n",
       "Crop Type                       object\n",
       "Water Availability (mm)        float64\n",
       "Soil Moisture (%)              float64\n",
       "Precipitation Forecast (mm)    float64\n",
       "Irrigation Need (mm)             int64\n",
       "Risk Level                       int64\n",
       "Decision Recommendation         object\n",
       "dtype: object"
      ]
     },
     "execution_count": 18,
     "metadata": {},
     "output_type": "execute_result"
    }
   ],
   "source": [
    "df.dtypes"
   ]
  },
  {
   "cell_type": "code",
   "execution_count": 26,
   "metadata": {},
   "outputs": [
    {
     "data": {
      "image/png": "[encoded data removed]",
      "text/plain": [
       "<Figure size 800x800 with 1 Axes>"
      ]
     },
     "metadata": {},
     "output_type": "display_data"
    }
   ],
   "source": [
    "import matplotlib.pyplot as plt\n",
    "crop_counts = df[\"Crop Type\"].value_counts()\n",
    "sizes = crop_counts.values\n",
    "labels = crop_counts.index\n",
    "\n",
    "plt.figure(figsize=(8, 8)) \n",
    "plt.pie(sizes, labels=labels, autopct='%1.1f%%', startangle=140)\n",
    "plt.title('Distribution of Crop Types')\n",
    "plt.show()\n"
   ]
  },
  {
   "cell_type": "code",
   "execution_count": 33,
   "metadata": {},
   "outputs": [
    {
     "data": {
      "text/plain": [
       "Text(0.5, 1.0, 'Risk Level')"
      ]
     },
     "execution_count": 33,
     "metadata": {},
     "output_type": "execute_result"
    },
    {
     "data": {
      "image/png": "[encoded data removed]",
      "text/plain": [
       "<Figure size 640x480 with 1 Axes>"
      ]
     },
     "metadata": {},
     "output_type": "display_data"
    }
   ],
   "source": [
    "plt.hist(df[\"Risk Level\"])\n",
    "plt.title(\"Risk Level\")"
   ]
  },
  {
   "cell_type": "code",
   "execution_count": 43,
   "metadata": {},
   "outputs": [],
   "source": [
    "import seaborn as sns"
   ]
  },
  {
   "cell_type": "code",
   "execution_count": 46,
   "metadata": {},
   "outputs": [
    {
     "name": "stderr",
     "output_type": "stream",
     "text": [
      "/var/folders/h8/6p4k9gpj52g9xjrh452vpgh80000gn/T/ipykernel_6062/853627240.py:2: FutureWarning: \n",
      "\n",
      "Passing `palette` without assigning `hue` is deprecated and will be removed in v0.14.0. Assign the `y` variable to `hue` and set `legend=False` for the same effect.\n",
      "\n",
      "  sns.countplot(y='Decision Recommendation', data=df, palette='pastel')\n"
     ]
    },
    {
     "data": {
      "image/png": "[encoded data removed]",
      "text/plain": [
       "<Figure size 1200x600 with 1 Axes>"
      ]
     },
     "metadata": {},
     "output_type": "display_data"
    }
   ],
   "source": [
    "plt.figure(figsize=(12, 6))\n",
    "sns.countplot(y='Decision Recommendation', data=df, palette='pastel')\n",
    "plt.title('Frequency of Decision Recommendations')\n",
    "plt.xlabel('Count')\n",
    "plt.ylabel('Decision Recommendation')\n",
    "plt.show()"
   ]
  }
 ],
 "metadata": {
  "kernelspec": {
   "display_name": "Python 3",
   "language": "python",
   "name": "python3"
  },
  "language_info": {
   "codemirror_mode": {
    "name": "ipython",
    "version": 3
   },
   "file_extension": ".py",
   "mimetype": "text/x-python",
   "name": "python",
   "nbconvert_exporter": "python",
   "pygments_lexer": "ipython3",
   "version": "3.9.6"
  }
 },
 "nbformat": 4,
 "nbformat_minor": 2
}
